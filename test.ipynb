{
 "cells": [
  {
   "cell_type": "code",
   "execution_count": 3,
   "metadata": {},
   "outputs": [
    {
     "data": {
      "text/plain": [
       "array(['A', 'ABB', 'ABBV', 'ABC', 'ABEV', 'ABT', 'ACI', 'ACM', 'ACN',\n",
       "       'ADM', 'AEE', 'AEM', 'AER', 'AES', 'AFG', 'AFL', 'AGL', 'AGR',\n",
       "       'AIG', 'AJG', 'ALB', 'ALC', 'ALL', 'AMCR', 'AME', 'AMH', 'AMP',\n",
       "       'AMT', 'AMX', 'ANET', 'AON', 'AOS', 'APD', 'APH', 'APO', 'APTV',\n",
       "       'ARE', 'ARES', 'ASX', 'ATO', 'AVB', 'AVTR', 'AVY', 'AWK', 'AXP',\n",
       "       'AZO', 'BA', 'BABA', 'BAC', 'BAH', 'BALL', 'BAM', 'BAX', 'BBD',\n",
       "       'BBDO', 'BBVA', 'BBY', 'BCE', 'BCS', 'BDX', 'BEKE', 'BEN', 'BG',\n",
       "       'BHP', 'BIO', 'BIP', 'BJ', 'BK', 'BLDR', 'BLK', 'BMO', 'BMY', 'BN',\n",
       "       'BNS', 'BP', 'BR', 'BRK/A', 'BRK/B', 'BRO', 'BSBR', 'BSX', 'BTI',\n",
       "       'BUD', 'BURL', 'BWA', 'BX', 'C', 'CAG', 'CAH', 'CARR', 'CAT', 'CB',\n",
       "       'CBRE', 'CCI', 'CCJ', 'CCL', 'CDAY', 'CE', 'CF', 'CFG', 'CHD',\n",
       "       'CHT', 'CHWY', 'CI', 'CL', 'CLX', 'CM', 'CMG', 'CMI', 'CMS', 'CNA',\n",
       "       'CNC', 'CNHI', 'CNI', 'CNP', 'CNQ', 'COF', 'COO', 'COP', 'CP',\n",
       "       'CPB', 'CPNG', 'CPT', 'CRBG', 'CRH', 'CRM', 'CSL', 'CTLT', 'CTRA',\n",
       "       'CTVA', 'CUK', 'CVE', 'CVS', 'CVX', 'D', 'DAL', 'DASH', 'DB', 'DD',\n",
       "       'DE', 'DECK', 'DELL', 'DEO', 'DFS', 'DG', 'DGX', 'DHI', 'DHR',\n",
       "       'DIS', 'DKS', 'DLR', 'DOV', 'DOW', 'DPZ', 'DRI', 'DT', 'DTE',\n",
       "       'DUK', 'DVN', 'E', 'EBR', 'EC', 'ECL', 'ED', 'EFX', 'EIX', 'EL',\n",
       "       'ELP', 'ELS', 'ELV', 'EMR', 'ENB', 'EOG', 'EPAM', 'EPD', 'EQNR',\n",
       "       'EQR', 'EQT', 'ES', 'ESS', 'ET', 'ETN', 'ETR', 'EW', 'EXR', 'F',\n",
       "       'FCX', 'FDX', 'FE', 'FERG', 'FICO', 'FIS', 'FLT', 'FMC', 'FMS',\n",
       "       'FMX', 'FNV', 'FTS', 'FTV', 'GD', 'GDDY', 'GE', 'GFI', 'GFL',\n",
       "       'GGG', 'GIB', 'GIS', 'GL', 'GLW', 'GM', 'GOLD', 'GPC', 'GPN',\n",
       "       'GRMN', 'GS', 'GSK', 'GWW', 'H', 'HAL', 'HCA', 'HD', 'HDB', 'HEI',\n",
       "       'HES', 'HIG', 'HLN', 'HLT', 'HMC', 'HPE', 'HPQ', 'HRL', 'HSBC',\n",
       "       'HSY', 'HUBB', 'HUBS', 'HUM', 'HWM', 'IBM', 'IBN', 'ICE', 'IEX',\n",
       "       'IFF', 'IHG', 'INFY', 'ING', 'INVH', 'IP', 'IPG', 'IQV', 'IR',\n",
       "       'IRM', 'IT', 'ITUB', 'ITW', 'IX', 'J', 'JBL', 'JCI', 'JNJ', 'JNPR',\n",
       "       'JPM', 'K', 'KB', 'KEY', 'KEYS', 'KIM', 'KKR', 'KMB', 'KMI', 'KO',\n",
       "       'KOF', 'KR', 'L', 'LDOS', 'LEN', 'LH', 'LHX', 'LIN', 'LLY', 'LMT',\n",
       "       'LOW', 'LSI', 'LUV', 'LVS', 'LW', 'LYB', 'LYG', 'LYV', 'MA', 'MAA',\n",
       "       'MAS', 'MCD', 'MCK', 'MCO', 'MDT', 'MET', 'MFC', 'MFG', 'MGA',\n",
       "       'MGM', 'MKC', 'MKL', 'MLM', 'MMC', 'MMM', 'MMP', 'MO', 'MOH',\n",
       "       'MOS', 'MPC', 'MPLX', 'MRK', 'MRO', 'MS', 'MSCI', 'MSI', 'MT',\n",
       "       'MTB', 'MTD', 'MUFG', 'NEE', 'NEM', 'NET', 'NGG', 'NI', 'NIO',\n",
       "       'NKE', 'NMR', 'NOC', 'NOK', 'NOW', 'NSC', 'NTR', 'NU', 'NUE',\n",
       "       'NVO', 'NVR', 'NVS', 'NWG', 'O', 'OKE', 'OMC', 'ORAN', 'ORCL',\n",
       "       'OTIS', 'OXY', 'PAYC', 'PBA', 'PBR', 'PCG', 'PEAK', 'PEG', 'PEN',\n",
       "       'PFE', 'PG', 'PGR', 'PH', 'PHG', 'PHM', 'PINS', 'PKG', 'PKI',\n",
       "       'PKX', 'PLD', 'PLTR', 'PM', 'PNC', 'PPG', 'PPL', 'PRU', 'PSA',\n",
       "       'PSX', 'PUK', 'PWR', 'PXD', 'QGEN', 'QSR', 'RACE', 'RBLX', 'RCI',\n",
       "       'RCL', 'RE', 'RELX', 'REXR', 'RF', 'RIO', 'RJF', 'RMD', 'ROK',\n",
       "       'ROL', 'ROP', 'RPM', 'RS', 'RSG', 'RTO', 'RTX', 'RY', 'SAN', 'SAP',\n",
       "       'SCCO', 'SCHW', 'SE', 'SHEL', 'SHG', 'SHOP', 'SHW', 'SJM', 'SJR',\n",
       "       'SLB', 'SLF', 'SMFG', 'SNA', 'SNAP', 'SNN', 'SNOW', 'SO', 'SONY',\n",
       "       'SPG', 'SPGI', 'SPOT', 'SQ', 'SQM', 'SRE', 'STE', 'STLA', 'STM',\n",
       "       'STT', 'STZ', 'SU', 'SUI', 'SUZ', 'SWK', 'SYF', 'SYK', 'SYY', 'T',\n",
       "       'TAK', 'TAP', 'TD', 'TDG', 'TDY', 'TECK', 'TEF', 'TEL', 'TFC',\n",
       "       'TFII', 'TFX', 'TGT', 'TJX', 'TLK', 'TM', 'TME', 'TMO', 'TPL',\n",
       "       'TRGP', 'TRI', 'TRP', 'TRU', 'TRV', 'TS', 'TSM', 'TSN', 'TT',\n",
       "       'TTC', 'TTE', 'TU', 'TWLO', 'TXT', 'TYL', 'U', 'UBER', 'UBS',\n",
       "       'UDR', 'UHAL', 'UI', 'UL', 'UMC', 'UNH', 'UNP', 'UPS', 'URI',\n",
       "       'USB', 'V', 'VALE', 'VEEV', 'VICI', 'VIV', 'VLO', 'VMC', 'VMW',\n",
       "       'VTR', 'WAB', 'WAT', 'WCN', 'WDS', 'WEC', 'WELL', 'WFC', 'WIT',\n",
       "       'WLK', 'WM', 'WMB', 'WMT', 'WPC', 'WPM', 'WPP', 'WRB', 'WSO',\n",
       "       'WST', 'WTRG', 'WY', 'XOM', 'XYL', 'YUM', 'YUMC', 'ZBH', 'ZTO',\n",
       "       'ZTS'], dtype=object)"
      ]
     },
     "execution_count": 3,
     "metadata": {},
     "output_type": "execute_result"
    }
   ],
   "source": [
    "import numpy as np\n",
    "import pandas as pd\n",
    "df = pd.read_csv('nyse.csv')\n",
    "nyse = np.array(df['Symbol'])\n",
    "nyse"
   ]
  }
 ],
 "metadata": {
  "kernelspec": {
   "display_name": "Python 3",
   "language": "python",
   "name": "python3"
  },
  "language_info": {
   "codemirror_mode": {
    "name": "ipython",
    "version": 3
   },
   "file_extension": ".py",
   "mimetype": "text/x-python",
   "name": "python",
   "nbconvert_exporter": "python",
   "pygments_lexer": "ipython3",
   "version": "3.11.2"
  },
  "orig_nbformat": 4
 },
 "nbformat": 4,
 "nbformat_minor": 2
}
